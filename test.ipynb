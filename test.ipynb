{
 "cells": [
  {
   "cell_type": "code",
   "execution_count": null,
   "metadata": {},
   "outputs": [],
   "source": [
    "import wandb\n",
    "import random\n",
    "\n",
    "# start a new wandb run to track this script\n",
    "wandb.init(\n",
    "    # set the wandb project where this run will be logged\n",
    "    project=\"my-awesome-project\",\n",
    "\n",
    "    # track hyperparameters and run metadata\n",
    "    config={\n",
    "    \"learning_rate\": 0.02,\n",
    "    \"architecture\": \"CNN\",\n",
    "    \"dataset\": \"CIFAR-100\",\n",
    "    \"epochs\": 10,\n",
    "    }\n",
    ")\n",
    "\n",
    "# simulate training\n",
    "epochs = 10\n",
    "offset = random.random() / 5\n",
    "for epoch in range(2, epochs):\n",
    "    acc = 1 - 2 ** -epoch - random.random() / epoch - offset\n",
    "    loss = 2 ** -epoch + random.random() / epoch + offset\n",
    "\n",
    "    # log metrics to wandb\n",
    "    wandb.log({\"acc\": acc, \"loss\": loss})\n",
    "\n",
    "# [optional] finish the wandb run, necessary in notebooks\n",
    "wandb.finish()"
   ]
  },
  {
   "cell_type": "code",
   "execution_count": null,
   "metadata": {},
   "outputs": [],
   "source": []
  },
  {
   "cell_type": "markdown",
   "metadata": {},
   "source": []
  },
  {
   "cell_type": "markdown",
   "metadata": {},
   "source": [
    "# WTFFFFF , I JUST UP MY EDGE WEIGHT!\n",
    "\n",
    "Average Tracking/Iteration Time: 22.342855407905258 ms\n",
    "Average Tracking/Frame Time: 4.464100013310845 s\n",
    "Average Mapping/Iteration Time: 26.883883290999645 ms\n",
    "Average Mapping/Frame Time: 0.8084816985033654 s\n",
    "Evaluating Final Parameters ...\n",
    "Final Average ATE RMSE: 3.40 cm\n",
    "Average PSNR: 23.35\n",
    "Average Depth RMSE: 4.23 cm\n",
    "Average Depth L1: 4.23 cm\n",
    "Average MS-SSIM: 0.921\n",
    "Average LPIPS: 0.150\n",
    "Saving parameters to: ./experiments/TUM\\freiburg1_desk_seed0\n"
   ]
  },
  {
   "cell_type": "code",
   "execution_count": null,
   "metadata": {},
   "outputs": [],
   "source": []
  },
  {
   "cell_type": "markdown",
   "metadata": {},
   "source": []
  },
  {
   "cell_type": "code",
   "execution_count": null,
   "metadata": {},
   "outputs": [],
   "source": [
    "\n"
   ]
  },
  {
   "cell_type": "markdown",
   "metadata": {},
   "source": [
    "# First\n",
    "\n",
    "Average Tracking/Iteration Time: 22.45622111052628 ms\n",
    "\n",
    "Average Tracking/Frame Time: 4.485953955231486 s\n",
    "\n",
    "Average Mapping/Iteration Time: 20.350575151744188 ms\n",
    "\n",
    "Average Mapping/Frame Time: 0.6118921311320485 s\n",
    "\n",
    "Final Average ATE RMSE: 3.37 cm\n",
    "\n",
    "Average PSNR: 22.25\n",
    "\n",
    "Average Depth RMSE: 3.52 cm\n",
    "\n",
    "Average Depth L1: 3.52 cm\n",
    "\n",
    "Average MS-SSIM: 0.895\n",
    "\n",
    "Average LPIPS: 0.201\n"
   ]
  },
  {
   "cell_type": "code",
   "execution_count": null,
   "metadata": {},
   "outputs": [],
   "source": []
  },
  {
   "cell_type": "markdown",
   "metadata": {},
   "source": [
    "# Second \n",
    "Average Tracking/Iteration Time: 24.925143210415914 ms\n",
    "\n",
    "Average Tracking/Frame Time: 4.978765228712881 s\n",
    "\n",
    "Average Mapping/Iteration Time: 20.327625900238484 ms\n",
    "\n",
    "Average Mapping/Frame Time: 0.6111651908706974 s\n",
    "\n",
    "Final Average ATE RMSE: 3.37 cm\n",
    "\n",
    "Average PSNR: 22.28\n",
    "\n",
    "Average Depth RMSE: 3.39 cm\n",
    "\n",
    "Average Depth L1: 3.39 cm\n",
    "\n",
    "Average MS-SSIM: 0.896\n",
    "\n",
    "Average LPIPS: 0.199"
   ]
  },
  {
   "cell_type": "markdown",
   "metadata": {},
   "source": []
  },
  {
   "cell_type": "markdown",
   "metadata": {},
   "source": [
    "# Without Edge Loss\n",
    "\n",
    "\n",
    "Average Tracking/Iteration Time: 85.68962560288999 ms\n",
    "\n",
    "Average Tracking/Frame Time: 17.11114777705154 s\n",
    "\n",
    "Average Mapping/Iteration Time: 19.04487117185249 ms\n",
    "\n",
    "Average Mapping/Frame Time: 0.572595407028456 s\n",
    "\n",
    "Final Average ATE RMSE: 3.31 cm\n",
    "\n",
    "Average PSNR: 22.51\n",
    "\n",
    "Average Depth RMSE: 3.07 cm\n",
    "\n",
    "Average Depth L1: 3.07 cm\n",
    "\n",
    "Average MS-SSIM: 0.899\n",
    "\n",
    "Average LPIPS: 0.191"
   ]
  },
  {
   "cell_type": "markdown",
   "metadata": {},
   "source": [
    "# Open BA and key_frame algor\n",
    "\n",
    "Average Tracking/Iteration Time: 22.218881438024557 ms\n",
    "\n",
    "Average Tracking/Frame Time: 4.439369923762373 s\n",
    "Average Mapping/Iteration Time: 26.770205137965913 ms\n",
    "Average Mapping/Frame Time: 0.8050456389382079 s\n",
    "Evaluating Final Parameters ...\n",
    "Final Average ATE RMSE: 3.41 cm\n",
    "Average PSNR: 22.10\n",
    "Average Depth RMSE: 5.13 cm\n",
    "Average Depth L1: 5.13 cm\n",
    "Average MS-SSIM: 0.892\n",
    "Average LPIPS: 0.205\n",
    "Saving parameters to: ./experiments/TUM\\freiburg1_desk_seed0"
   ]
  },
  {
   "cell_type": "markdown",
   "metadata": {},
   "source": [
    "\n",
    "Average Tracking/Iteration Time: 22.152734157801078 ms\n",
    "Average Tracking/Frame Time: 4.426152254278596 s\n",
    "Average Mapping/Iteration Time: 20.15868140770508 ms\n",
    "Average Mapping/Frame Time: 0.6068109656507904 s\n",
    "Evaluating Final Parameters ...\n",
    "Final Average ATE RMSE: 3.39 cm\n",
    "Average PSNR: 22.21\n",
    "Average Depth RMSE: 3.35 cm\n",
    "Average Depth L1: 3.35 cm\n",
    "Average MS-SSIM: 0.895\n",
    "Average LPIPS: 0.202\n",
    "Saving parameters to: ./experiments/TUM\\freiburg1_desk_seed0"
   ]
  },
  {
   "cell_type": "markdown",
   "metadata": {},
   "source": []
  },
  {
   "cell_type": "markdown",
   "metadata": {},
   "source": []
  },
  {
   "cell_type": "markdown",
   "metadata": {},
   "source": [
    "# Adjust the weight to 0.6,0.2,0.2\n",
    "\n",
    "Average Tracking/Iteration Time: 24.95830942128112 ms\n",
    "Average Tracking/Frame Time: 4.985627867885538 s\n",
    "Average Mapping/Iteration Time: 22.873165854462634 ms\n",
    "Average Mapping/Frame Time: 0.6875484130672507 s\n",
    "\n",
    "Final Average ATE RMSE: 3.48 cm\n",
    "Average PSNR: 22.08\n",
    "Average Depth RMSE: 3.12 cm\n",
    "Average Depth L1: 3.12 cm\n",
    "Average MS-SSIM: 0.897\n",
    "Average LPIPS: 0.196"
   ]
  },
  {
   "cell_type": "markdown",
   "metadata": {},
   "source": []
  },
  {
   "cell_type": "markdown",
   "metadata": {},
   "source": [
    "# Weight to 0.4,0.2,0.4\n",
    "Average Tracking/Iteration Time: 22.697319367210273 ms\n",
    "Average Tracking/Frame Time: 4.533963459971789 s\n",
    "Average Mapping/Iteration Time: 21.030977730815472 ms\n",
    "Average Mapping/Frame Time: 0.6322318053728825 s\n",
    "Final Average ATE RMSE: 3.47 cm\n",
    "Average PSNR: 21.71\n",
    "Average Depth RMSE: 2.96 cm\n",
    "Average Depth L1: 2.96 cm\n",
    "Average MS-SSIM: 0.893\n",
    "Average LPIPS: 0.201"
   ]
  },
  {
   "cell_type": "markdown",
   "metadata": {},
   "source": [
    "# mapping_iter to 50\n",
    "\n",
    "Average Tracking/Iteration Time: 22.262592678747804 ms\n",
    "Average Tracking/Frame Time: 4.447128976116309 s\n",
    "Average Mapping/Iteration Time: 20.232078634403845 ms\n",
    "Average Mapping/Frame Time: 1.0129022155259106 s\n",
    "Final Average ATE RMSE: 3.34 cm\n",
    "Average PSNR: 21.30\n",
    "Average Depth RMSE: 2.00 cm\n",
    "Average Depth L1: 2.00 cm\n",
    "Average MS-SSIM: 0.874\n",
    "Average LPIPS: 0.209"
   ]
  },
  {
   "cell_type": "markdown",
   "metadata": {},
   "source": [
    "# Adjust weight to 0.5(0.8,0.2),0.5\n",
    "\n",
    "Average Tracking/Iteration Time: 22.29206063824055 ms\n",
    "Average Tracking/Frame Time: 4.453010078217532 s\n",
    "Average Mapping/Iteration Time: 20.354807819869066 ms\n",
    "Average Mapping/Frame Time: 0.6119439436777218 s\n",
    "Final Average ATE RMSE: 2.90 cm\n",
    "Average PSNR: 22.25\n",
    "Average Depth RMSE: 10.05 cm\n",
    "Average Depth L1: 10.05 cm\n",
    "Average MS-SSIM: 0.839\n",
    "Average LPIPS: 0.271\n"
   ]
  },
  {
   "cell_type": "markdown",
   "metadata": {},
   "source": [
    "# Adding densify\n",
    "Average Tracking/Iteration Time: 22.541167891368445 ms\n",
    "Average Tracking/Frame Time: 4.5027612914910184 s\n",
    "Average Mapping/Iteration Time: 22.545428533811826 ms\n",
    "Average Mapping/Frame Time: 0.6775963753461838 s\n",
    "Final Average ATE RMSE: 2.83 cm\n",
    "Average PSNR: 21.94\n",
    "Average Depth RMSE: 9.71 cm\n",
    "Average Depth L1: 9.71 cm\n",
    "Average MS-SSIM: 0.824\n",
    "Average LPIPS: 0.287"
   ]
  },
  {
   "cell_type": "markdown",
   "metadata": {},
   "source": [
    "# New Adjust!\n",
    "Average Tracking/Iteration Time: 26.52848759278428 ms\n",
    "Average Tracking/Frame Time: 5.299097894816785 s\n",
    "Average Mapping/Iteration Time: 23.09395874942745 ms\n",
    "Average Mapping/Frame Time: 0.6942813207168836 s\n",
    "\n",
    "Final Average ATE RMSE: 3.47 cm\n",
    "Average PSNR: 22.47\n",
    "Average Depth RMSE: 3.06 cm\n",
    "Average Depth L1: 3.06 cm\n",
    "Average MS-SSIM: 0.901\n",
    "Average LPIPS: 0.193"
   ]
  },
  {
   "cell_type": "markdown",
   "metadata": {},
   "source": [
    "# Best ever\n",
    "\n",
    "Average Tracking/Iteration Time: 25.28233399245945 ms\n",
    "Average Tracking/Frame Time: 5.050210587881707 s\n",
    "Average Mapping/Iteration Time: 22.023042781395954 ms\n",
    "Average Mapping/Frame Time: 0.6620076471889341 s\n",
    "Final Average ATE RMSE: 3.40 cm\n",
    "Average PSNR: 22.44\n",
    "Average Depth RMSE: 3.36 cm\n",
    "Average Depth L1: 3.36 cm\n",
    "Average MS-SSIM: 0.895\n",
    "Average LPIPS: 0.196"
   ]
  },
  {
   "cell_type": "markdown",
   "metadata": {},
   "source": [
    "Average Tracking/Iteration Time: 23.98083097035106 ms\n",
    "Average Tracking/Frame Time: 4.79031834650684 s\n",
    "Average Mapping/Iteration Time: 21.07824574451189 ms\n",
    "Average Mapping/Frame Time: 0.6336894131995536 s\n",
    "Evaluating Final Parameters ...\n",
    "100%|████████████████████████████████████████████████████████████████████████████████████████████████████████████████████████████████████████████████████████████████████████████████████████████████████████████████████████████████████████████| 592/592 [00:23<00:00, 24.91it/s]\n",
    "Final Average ATE RMSE: 3.46 cm\n",
    "Average PSNR: 22.34\n",
    "Average Depth RMSE: 3.15 cm\n",
    "Average Depth L1: 3.15 cm\n",
    "Average MS-SSIM: 0.899\n",
    "Average LPIPS: 0.190\n"
   ]
  },
  {
   "cell_type": "markdown",
   "metadata": {},
   "source": [
    "Best ever!\n",
    "Average Tracking/Iteration Time: 24.579737950904317 ms\n",
    "Average Tracking/Frame Time: 4.9097060690055025 s\n",
    "Average Mapping/Iteration Time: 21.410256812164377 ms\n",
    "Average Mapping/Frame Time: 0.6435587035643088 s\n",
    "Final Average ATE RMSE: 3.45 cm\n",
    "Average PSNR: 22.69\n",
    "Average Depth RMSE: 3.12 cm\n",
    "Average Depth L1: 3.12 cm\n",
    "Average MS-SSIM: 0.903\n",
    "Average LPIPS: 0.185\n"
   ]
  },
  {
   "cell_type": "markdown",
   "metadata": {},
   "source": [
    "Average Tracking/Iteration Time: 21.682820715476613 ms\n",
    "Average Tracking/Frame Time: 4.331440959427808 s\n",
    "Average Mapping/Iteration Time: 19.560625974659448 ms\n",
    "Average Mapping/Frame Time: 0.5881377837142429 s\n",
    "Evaluating Final Parameters ...\n",
    "Final Average ATE RMSE: 3.40 cm\n",
    "Average PSNR: 21.97\n",
    "Average Depth RMSE: 3.19 cm\n",
    "Average Depth L1: 3.19 cm\n",
    "Average MS-SSIM: 0.892\n",
    "Average LPIPS: 0.200\n",
    "Saving parameters to: ./experiments/TUM\\freiburg1_desk_seed0\n"
   ]
  },
  {
   "cell_type": "markdown",
   "metadata": {},
   "source": [
    "Average Tracking/Iteration Time: 21.742511693192817 ms\n",
    "Average Tracking/Frame Time: 4.343355892880543 s\n",
    "Average Mapping/Iteration Time: 19.827888932850982 ms\n",
    "Average Mapping/Frame Time: 0.5961908468523541 s\n",
    "Evaluating Final Parameters ...\n",
    "Final Average ATE RMSE: 3.43 cm\n",
    "Average PSNR: 22.24\n",
    "Average Depth RMSE: 3.05 cm\n",
    "Average Depth L1: 3.05 cm\n",
    "Average MS-SSIM: 0.895\n",
    "Average LPIPS: 0.204\n",
    "Saving parameters to: ./experiments/TUM\\freiburg1_desk_seed0\n"
   ]
  },
  {
   "cell_type": "markdown",
   "metadata": {},
   "source": [
    "Average Tracking/Iteration Time: 22.130072514216103 ms\n",
    "Average Tracking/Frame Time: 4.420692738246274 s\n",
    "Average Mapping/Iteration Time: 19.916433794004423 ms\n",
    "Average Mapping/Frame Time: 0.5988440227669638 s\n",
    "Evaluating Final Parameters ...\n",
    "Final Average ATE RMSE: 3.42 cm\n",
    "Average PSNR: 22.14\n",
    "Average Depth RMSE: 2.96 cm\n",
    "Average Depth L1: 2.96 cm\n",
    "Average MS-SSIM: 0.893\n",
    "Average LPIPS: 0.194\n",
    "Saving parameters to: ./experiments/TUM\\freiburg1_desk_seed0"
   ]
  }
 ],
 "metadata": {
  "kernelspec": {
   "display_name": "Python 3",
   "language": "python",
   "name": "python3"
  },
  "language_info": {
   "codemirror_mode": {
    "name": "ipython",
    "version": 3
   },
   "file_extension": ".py",
   "mimetype": "text/x-python",
   "name": "python",
   "nbconvert_exporter": "python",
   "pygments_lexer": "ipython3",
   "version": "undefined.undefined.undefined"
  }
 },
 "nbformat": 4,
 "nbformat_minor": 2
}
